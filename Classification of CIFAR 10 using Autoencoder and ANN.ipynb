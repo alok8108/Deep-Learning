{
  "cells": [
    {
      "cell_type": "code",
      "execution_count": 132,
      "metadata": {
        "id": "bS-I57MmXQKw"
      },
      "outputs": [],
      "source": [
        "import torch\n",
        "from torch import nn\n",
        "import torchvision\n",
        "from torchvision import datasets\n",
        "from torchvision import transforms\n",
        "from torchvision.transforms import ToTensor\n",
        "import matplotlib.pyplot as plt\n",
        "from torch.utils.data import DataLoader\n",
        "import numpy as np\n",
        "from torch.autograd import Variable\n",
        "import pandas as pd\n",
        "import torch.optim as optim\n"
      ]
    },
    {
      "cell_type": "code",
      "execution_count": 133,
      "metadata": {
        "id": "K4hiZyFQXcLp"
      },
      "outputs": [],
      "source": [
        "transform_image=transforms.Compose(\n",
        "    [\n",
        "    torchvision.transforms.GaussianBlur(kernel_size=3, sigma=(0.1,2)),\n",
        "    torchvision.transforms.RandomRotation(10),\n",
        "    torchvision.transforms.Grayscale(1),\n",
        "     torchvision.transforms.ToTensor(),\n",
        "    ]\n",
        "    )"
      ]
    },
    {
      "cell_type": "code",
      "execution_count": 134,
      "metadata": {
        "colab": {
          "base_uri": "https://localhost:8080/"
        },
        "id": "Eujdyi9VXeLS",
        "outputId": "75ff31ba-2db8-4827-bb1b-afe819770292"
      },
      "outputs": [
        {
          "output_type": "stream",
          "name": "stdout",
          "text": [
            "Files already downloaded and verified\n",
            "Files already downloaded and verified\n"
          ]
        }
      ],
      "source": [
        "train_data= torchvision.datasets.CIFAR10(root=\"data\",\n",
        "                                              train=True,\n",
        "                                              download=True,\n",
        "                                              transform=transform_image,\n",
        "                                              target_transform=None\n",
        "                                              )\n",
        "test_data= torchvision.datasets.CIFAR10(root=\"data\",\n",
        "                                              train=False,\n",
        "                                              download=True,\n",
        "                                              transform=transform_image,\n",
        "                                              target_transform=None\n",
        "                                              )"
      ]
    },
    {
      "cell_type": "code",
      "execution_count": 135,
      "metadata": {
        "id": "MzXtgmWGXght"
      },
      "outputs": [],
      "source": [
        "# Selecting classes 0, 2, 4,6 and 8 in train data\n",
        "idx0 = torch.tensor(train_data.targets) == 0\n",
        "idx2 = torch.tensor(train_data.targets) == 2\n",
        "idx4 = torch.tensor(train_data.targets) == 4\n",
        "idx6 = torch.tensor(train_data.targets) == 6\n",
        "idx8 = torch.tensor(train_data.targets) == 8\n",
        "\n",
        "train_mask= idx0 | idx2 | idx4 | idx6 | idx8\n",
        "train_indices = train_mask.nonzero().reshape(-1) #a list of indices which has true for either 0, 2, 4,6 or 8\n",
        "\n",
        "from torch.utils.data import Subset\n",
        "train_subset = Subset(train_data, train_indices)  # make a subset\n",
        "\n",
        "from torch.utils.data import DataLoader\n",
        "train_data = DataLoader(train_subset, shuffle=False, batch_size=32)\n"
      ]
    },
    {
      "cell_type": "code",
      "source": [
        "# Selecting classes 0, 2, 4,6 and 8 in test data\n",
        "idx0 = torch.tensor(test_data.targets) == 0\n",
        "idx2 = torch.tensor(test_data.targets) == 2\n",
        "idx4 = torch.tensor(test_data.targets) == 4\n",
        "idx6 = torch.tensor(test_data.targets) == 6\n",
        "idx8 = torch.tensor(test_data.targets) == 8\n",
        "\n",
        "test_mask= idx0 | idx2 | idx4 | idx6 | idx8\n",
        "test_indices = test_mask.nonzero().reshape(-1) #a list of indices which has true for either 0, 2, 4,6 or 8\n",
        "\n",
        "from torch.utils.data import Subset\n",
        "test_subset = Subset(test_data, test_indices)  # make a subset\n",
        "\n",
        "from torch.utils.data import DataLoader\n",
        "test_data = DataLoader(test_subset, shuffle=False, batch_size=32)\n"
      ],
      "metadata": {
        "id": "bblxBJ5-nZbW"
      },
      "execution_count": 136,
      "outputs": []
    },
    {
      "cell_type": "code",
      "execution_count": 137,
      "metadata": {
        "colab": {
          "base_uri": "https://localhost:8080/"
        },
        "id": "fjxjza8LXjmp",
        "outputId": "974b0d42-62dc-41fb-e7e0-18875a2247d7"
      },
      "outputs": [
        {
          "output_type": "stream",
          "name": "stdout",
          "text": [
            "torch.Size([32, 1, 32, 32])\n"
          ]
        }
      ],
      "source": [
        "for image, label in test_data:\n",
        "  print(image.shape)\n",
        "  break\n"
      ]
    },
    {
      "cell_type": "code",
      "execution_count": 138,
      "metadata": {
        "colab": {
          "base_uri": "https://localhost:8080/"
        },
        "id": "8PMXBIMXXosT",
        "outputId": "3b7505ee-2e44-4cf9-8a9e-948fa1c844e6"
      },
      "outputs": [
        {
          "output_type": "execute_result",
          "data": {
            "text/plain": [
              "(782, 157)"
            ]
          },
          "metadata": {},
          "execution_count": 138
        }
      ],
      "source": [
        "len(train_data), len(test_data)"
      ]
    },
    {
      "cell_type": "code",
      "execution_count": 139,
      "metadata": {
        "id": "m-3l7FqMXq3R"
      },
      "outputs": [],
      "source": [
        "image,label = next(iter(train_data))"
      ]
    },
    {
      "cell_type": "code",
      "execution_count": 140,
      "metadata": {
        "colab": {
          "base_uri": "https://localhost:8080/"
        },
        "id": "SNvciinBXtNX",
        "outputId": "47907991-3137-4b3a-e001-89cc27d43d4c"
      },
      "outputs": [
        {
          "output_type": "execute_result",
          "data": {
            "text/plain": [
              "(torch.Size([32, 1, 32, 32]),\n",
              " tensor([6, 4, 2, 8, 4, 2, 2, 6, 4, 6, 6, 2, 6, 4, 0, 0, 4, 0, 2, 2, 2, 2, 0, 2,\n",
              "         2, 2, 4, 8, 2, 4, 8, 6]))"
            ]
          },
          "metadata": {},
          "execution_count": 140
        }
      ],
      "source": [
        "image.shape,label"
      ]
    },
    {
      "cell_type": "code",
      "execution_count": 141,
      "metadata": {
        "id": "P5k7WhI4Xvfe"
      },
      "outputs": [],
      "source": [
        "# print(label)\n",
        "# #image.resize(32,32,3)\n",
        "# plt.imshow(image[0].permute(1, 2, 0))\n",
        "# image.shape"
      ]
    },
    {
      "cell_type": "code",
      "execution_count": 142,
      "metadata": {
        "colab": {
          "base_uri": "https://localhost:8080/"
        },
        "id": "jTnpQqqNXyIf",
        "outputId": "74e6bc9a-a29a-4ace-ccbb-8589a6e673d7"
      },
      "outputs": [
        {
          "output_type": "execute_result",
          "data": {
            "text/plain": [
              "['airplane',\n",
              " 'automobile',\n",
              " 'bird',\n",
              " 'cat',\n",
              " 'deer',\n",
              " 'dog',\n",
              " 'frog',\n",
              " 'horse',\n",
              " 'ship',\n",
              " 'truck']"
            ]
          },
          "metadata": {},
          "execution_count": 142
        }
      ],
      "source": [
        "class_names= train_data.dataset.dataset.classes  #the class_names is a list containing the names of all classes\n",
        "class_names"
      ]
    },
    {
      "cell_type": "code",
      "execution_count": 143,
      "metadata": {
        "colab": {
          "base_uri": "https://localhost:8080/"
        },
        "id": "vPalAbJ3X2zg",
        "outputId": "da9cf4dd-dc9d-4b39-f11f-68b406090883"
      },
      "outputs": [
        {
          "output_type": "execute_result",
          "data": {
            "text/plain": [
              "{'airplane': 0,\n",
              " 'automobile': 1,\n",
              " 'bird': 2,\n",
              " 'cat': 3,\n",
              " 'deer': 4,\n",
              " 'dog': 5,\n",
              " 'frog': 6,\n",
              " 'horse': 7,\n",
              " 'ship': 8,\n",
              " 'truck': 9}"
            ]
          },
          "metadata": {},
          "execution_count": 143
        }
      ],
      "source": [
        "#Converting the class names to class indexes so that we can use it later\n",
        "class_to_idx= train_data.dataset.dataset.class_to_idx\n",
        "class_to_idx "
      ]
    },
    {
      "cell_type": "code",
      "execution_count": 144,
      "metadata": {
        "colab": {
          "base_uri": "https://localhost:8080/"
        },
        "id": "3TiDqq6nX49f",
        "outputId": "f18343e9-8775-4503-9177-9eed8aa58819"
      },
      "outputs": [
        {
          "output_type": "execute_result",
          "data": {
            "text/plain": [
              "(782, 157)"
            ]
          },
          "metadata": {},
          "execution_count": 144
        }
      ],
      "source": [
        "len(train_data), len(test_data)"
      ]
    },
    {
      "cell_type": "code",
      "execution_count": 145,
      "metadata": {
        "colab": {
          "base_uri": "https://localhost:8080/",
          "height": 36
        },
        "id": "5g2E4UMaX9ly",
        "outputId": "b8c705eb-75ba-4871-9048-ee13f605dc6e"
      },
      "outputs": [
        {
          "output_type": "execute_result",
          "data": {
            "text/plain": [
              "'cpu'"
            ],
            "application/vnd.google.colaboratory.intrinsic+json": {
              "type": "string"
            }
          },
          "metadata": {},
          "execution_count": 145
        }
      ],
      "source": [
        "#setup device agnoistic code\n",
        "import torch\n",
        "device = \"cuda\" if torch.cuda.is_available() else \"cpu\"\n",
        "device\n"
      ]
    },
    {
      "cell_type": "code",
      "execution_count": 146,
      "metadata": {
        "id": "1-A10kT4YAfu"
      },
      "outputs": [],
      "source": [
        "class AE(nn.Module):\n",
        "    def __init__(self,input_features,output_features):\n",
        "        super().__init__()\n",
        "        self.encoder_hidden_layer_1 = nn.Linear(\n",
        "            in_features=input_features, out_features=128\n",
        "        )\n",
        "        self.encoder_hidden_layer_2= nn.Linear(\n",
        "            in_features=128, out_features=128\n",
        "        )\n",
        "        self.encoder_output_layer = nn.Linear(\n",
        "            in_features=128, out_features=128\n",
        "        )\n",
        "        self.decoder_hidden_layer_1= nn.Linear(\n",
        "            in_features=128, out_features=128\n",
        "        )\n",
        "        self.decoder_hidden_layer_2 = nn.Linear(\n",
        "            in_features=128, out_features=128\n",
        "        )\n",
        "        self.decoder_output_layer = nn.Linear(\n",
        "            in_features=128, out_features=output_features\n",
        "        )\n",
        "\n",
        "    def encoder(self, x):\n",
        "        activation = self.encoder_hidden_layer_1(x)\n",
        "        activation = torch.relu(activation)\n",
        "        activation = self.encoder_hidden_layer_2(activation)\n",
        "        activation = torch.relu(activation)\n",
        "        code = self.encoder_output_layer(activation)\n",
        "        encoded = torch.relu(code)\n",
        "        return encoded\n",
        "\n",
        "    def decoder(self,x):\n",
        "        activation = self.decoder_hidden_layer_1(x)\n",
        "        activation = torch.relu(activation)\n",
        "        activation = self.decoder_hidden_layer_2(activation)\n",
        "        activation = torch.relu(activation)\n",
        "        activation = self.decoder_output_layer(activation)\n",
        "        decoded = torch.relu(activation)\n",
        "        return decoded\n",
        "\n",
        "    def forward(self, x):\n",
        "      reconstructed= self.decoder(self.encoder(x))\n",
        "      return reconstructed"
      ]
    },
    {
      "cell_type": "code",
      "execution_count": 147,
      "metadata": {
        "id": "Zh0nLStwafhL"
      },
      "outputs": [],
      "source": [
        "  #create an instance of model and send it to the target device\n",
        "model_0= AE(input_features=1024,\n",
        "                   output_features=1024).to(device)\n"
      ]
    },
    {
      "cell_type": "code",
      "execution_count": 148,
      "metadata": {
        "id": "ZTfbGhjNanz0"
      },
      "outputs": [],
      "source": [
        "#create an optimizer object\n",
        "# Adam optimizer with learning rate 1e-3\n",
        "optimizer = optim.SGD(model_0.parameters(), lr=0.1)\n",
        "\n",
        "# mean-squared error loss\n",
        "loss_fn = nn.MSELoss()"
      ]
    },
    {
      "cell_type": "code",
      "execution_count": 149,
      "metadata": {
        "colab": {
          "base_uri": "https://localhost:8080/"
        },
        "id": "QqJFJ_6tarA1",
        "outputId": "6a8a5243-6fe7-41f6-965c-c6f2a544f810"
      },
      "outputs": [
        {
          "output_type": "stream",
          "name": "stdout",
          "text": [
            "epoch : 1/5, loss = 0.162838\n",
            "epoch : 2/5, loss = 0.111980\n",
            "epoch : 3/5, loss = 0.110335\n",
            "epoch : 4/5, loss = 0.109625\n",
            "epoch : 5/5, loss = 0.109333\n"
          ]
        }
      ],
      "source": [
        "epochs=5\n",
        "for epoch in range(epochs):\n",
        "    loss = 0\n",
        "    for batch_features, _ in train_data:\n",
        "        # reshaping the input matrix\n",
        "        batch_features = batch_features.view(-1, 1024).to(device)\n",
        "        optimizer.zero_grad()\n",
        "        outputs = model_0(batch_features)\n",
        "        \n",
        "        # compute loss & update parameter\n",
        "        # print(type(loss))\n",
        "        train_loss = loss_fn(outputs, batch_features)\n",
        "        train_loss.backward()\n",
        "        optimizer.step()\n",
        "        loss += train_loss.item()\n",
        "    \n",
        "    # compute the epoch training loss\n",
        "    loss = loss / len(train_data)\n",
        "    \n",
        "    # display the epoch training loss\n",
        "    print(\"epoch : {}/{}, loss = {:.6f}\".format(epoch + 1, epochs, loss))"
      ]
    },
    {
      "cell_type": "code",
      "execution_count": 150,
      "metadata": {
        "id": "DDOteOTHdT8e"
      },
      "outputs": [],
      "source": [
        "from torch import nn\n",
        "#building a multiclass classification model\n",
        "class Clsf_1(nn.Module):\n",
        "  def __init__(self, input_features, output_features, hidden_units):\n",
        "    super().__init__()\n",
        "    self.linear_layer_1= nn.Sequential(\n",
        "        nn.Linear(in_features= input_features, out_features=hidden_units),\n",
        "        nn.Sigmoid(),\n",
        "        nn.Linear(in_features=hidden_units, out_features=output_features)\n",
        "    )\n",
        "\n",
        "  def forward(self,x):\n",
        "    value=model_0.encoder(x)\n",
        "    value=self.linear_layer_1(value)\n",
        "    return value\n",
        "\n",
        "  #create an instance of model and send it to the target device\n",
        "model_2= Clsf_1(input_features=128,\n",
        "                   output_features=5,\n",
        "                   hidden_units=100).to(device)\n",
        "\n"
      ]
    },
    {
      "cell_type": "code",
      "execution_count": 151,
      "metadata": {
        "id": "bugqrRogbPKX"
      },
      "outputs": [],
      "source": [
        "#create a loss function and an optimizer for multi-class classification model\n",
        "loss_fn= nn.CrossEntropyLoss()\n",
        "optimizer = torch.optim.SGD(params=model_2.parameters(), lr=0.1)\n"
      ]
    },
    {
      "cell_type": "code",
      "source": [
        "#Calculate accuracy\n",
        "def accuracy_fn(y_true, y_pred):\n",
        "  correct = torch.eq(y_true, y_pred).sum().item()\n",
        "  acc= (correct/len(y_pred))*100\n",
        "  return acc"
      ],
      "metadata": {
        "id": "3g4dySZve-2K"
      },
      "execution_count": 152,
      "outputs": []
    },
    {
      "cell_type": "code",
      "source": [
        "\n",
        "torch.manual_seed(42)\n",
        "torch.cuda.manual_seed(42)\n",
        "\n",
        "#set number of epochs\n",
        "epochs=10\n",
        "\n",
        "#data to target device\n",
        "\n",
        "#loop through data\n",
        "for epoch in range(epochs):\n",
        "  train_loss = 0\n",
        "  for batch, (X, y) in enumerate(train_data):\n",
        "    X, y =X.to(device), y.to(device)\n",
        "\n",
        "\n",
        "    #training\n",
        "    model_2.train()\n",
        "\n",
        "    #1. forward pass\n",
        "    y_logits = model_2(X.view(-1,1024))\n",
        "    y= y//2\n",
        "    #2.Calculate the loss/acc\n",
        "    loss = loss_fn(y_logits, y)\n",
        "\n",
        "    train_loss = train_loss + loss\n",
        "    \n",
        "    #3.Optimizer zero grad\n",
        "    optimizer.zero_grad()\n",
        "\n",
        "    #4. Loss backward\n",
        "    loss.backward()\n",
        "\n",
        "    #5. optimizer step(gradient descent)\n",
        "    optimizer.step()\n",
        "\n",
        "  \n",
        "  ##Testing\n",
        "  model_2.eval()\n",
        "\n",
        "  with torch.inference_mode():\n",
        "    test_loss = 0\n",
        "    for X, y in test_data:\n",
        "      X, y= X.to(device), y\n",
        "    #1. forward pass\n",
        "      test_logits = model_2(X.view(-1,1024))\n",
        "      # test_pred = torch.softmax(test_logits, dim=1).argmax(dim=1)\n",
        "      y=y//2\n",
        "      #2. calculte the loss\n",
        "      test_loss = test_loss + loss_fn(test_logits, torch.tensor(y))\n",
        "    \n",
        "  #print out whats hapening\n",
        "  train_loss = train_loss / len(train_data)\n",
        "  test_loss = test_loss / len(test_data)\n",
        "  #if epoch ==0:\n",
        "  print(f\"Epoch: {epoch} | train loss:{train_loss:.5f} | Test loss:{test_loss:.5f}   \")\n",
        "\n",
        "\n"
      ],
      "metadata": {
        "colab": {
          "base_uri": "https://localhost:8080/"
        },
        "id": "z5pLrBukfA31",
        "outputId": "b272da19-f7f8-440e-d166-4caf89d7a359"
      },
      "execution_count": null,
      "outputs": [
        {
          "output_type": "stream",
          "name": "stderr",
          "text": [
            "<ipython-input-153-b0748fde3908>:49: UserWarning: To copy construct from a tensor, it is recommended to use sourceTensor.clone().detach() or sourceTensor.clone().detach().requires_grad_(True), rather than torch.tensor(sourceTensor).\n",
            "  test_loss = test_loss + loss_fn(test_logits, torch.tensor(y))\n"
          ]
        },
        {
          "output_type": "stream",
          "name": "stdout",
          "text": [
            "Epoch: 0 | train loss:1.58095 | Test loss:1.55442   \n"
          ]
        }
      ]
    },
    {
      "cell_type": "code",
      "source": [],
      "metadata": {
        "id": "N0g-gMeQfC2q"
      },
      "execution_count": null,
      "outputs": []
    }
  ],
  "metadata": {
    "colab": {
      "provenance": []
    },
    "kernelspec": {
      "display_name": "Python 3",
      "name": "python3"
    },
    "language_info": {
      "name": "python"
    }
  },
  "nbformat": 4,
  "nbformat_minor": 0
}