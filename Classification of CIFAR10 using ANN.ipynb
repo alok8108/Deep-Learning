{
  "nbformat": 4,
  "nbformat_minor": 0,
  "metadata": {
    "colab": {
      "provenance": []
    },
    "kernelspec": {
      "name": "python3",
      "display_name": "Python 3"
    },
    "language_info": {
      "name": "python"
    },
    "gpuClass": "standard"
  },
  "cells": [
    {
      "cell_type": "code",
      "execution_count": null,
      "metadata": {
        "id": "kLc2oDhd7pKg"
      },
      "outputs": [],
      "source": [
        "import torch\n",
        "import torchvision\n",
        "from  torchvision.datasets import CIFAR10\n",
        "import matplotlib.pyplot as plt\n",
        "import numpy as np\n",
        "import pandas as pd\n",
        "import seaborn as sns\n",
        "import torchvision.transforms as transforms # In order to transform the dataset into tensors\n"
      ]
    },
    {
      "cell_type": "code",
      "source": [
        "#Importing the dataset"
      ],
      "metadata": {
        "id": "LV9PnOVi81UT"
      },
      "execution_count": null,
      "outputs": []
    },
    {
      "cell_type": "code",
      "source": [
        "dataset= CIFAR10(root='data',download=True)"
      ],
      "metadata": {
        "colab": {
          "base_uri": "https://localhost:8080/"
        },
        "id": "0FROuGJJ75aU",
        "outputId": "7cdecc16-b51a-485b-ac49-774075153449"
      },
      "execution_count": null,
      "outputs": [
        {
          "output_type": "stream",
          "name": "stdout",
          "text": [
            "Files already downloaded and verified\n"
          ]
        }
      ]
    },
    {
      "cell_type": "code",
      "source": [
        "len(dataset)"
      ],
      "metadata": {
        "colab": {
          "base_uri": "https://localhost:8080/"
        },
        "id": "Gu_TDN8q8LV1",
        "outputId": "3bd5f73e-fa2d-43c0-fe63-7df4ecbff531"
      },
      "execution_count": null,
      "outputs": [
        {
          "output_type": "execute_result",
          "data": {
            "text/plain": [
              "50000"
            ]
          },
          "metadata": {},
          "execution_count": 134
        }
      ]
    },
    {
      "cell_type": "code",
      "source": [
        "test_dataset= CIFAR10(root='data',download=True, train=False, transform=transforms.Compose([\n",
        "    transforms.Grayscale(1),\n",
        "    transforms.ToTensor()])\n",
        ")\n",
        "len(test_dataset)"
      ],
      "metadata": {
        "colab": {
          "base_uri": "https://localhost:8080/"
        },
        "id": "b9snRupY8jrD",
        "outputId": "69faebda-ed42-4e90-de96-3a853602f9c4"
      },
      "execution_count": null,
      "outputs": [
        {
          "output_type": "stream",
          "name": "stdout",
          "text": [
            "Files already downloaded and verified\n"
          ]
        },
        {
          "output_type": "execute_result",
          "data": {
            "text/plain": [
              "10000"
            ]
          },
          "metadata": {},
          "execution_count": 135
        }
      ]
    },
    {
      "cell_type": "markdown",
      "source": [],
      "metadata": {
        "id": "VirK-teVv6_f"
      }
    },
    {
      "cell_type": "code",
      "source": [
        "#dataset[0] will give a tuple of image and its label.\n",
        "print(dataset[0])\n",
        "image,label = dataset[0]\n",
        "plt.imshow(image)\n",
        "print('Label',label)"
      ],
      "metadata": {
        "colab": {
          "base_uri": "https://localhost:8080/",
          "height": 302
        },
        "id": "sgQkCvJ68s7j",
        "outputId": "9faf951e-ec19-4f0a-a8d9-5701e396dd0a"
      },
      "execution_count": null,
      "outputs": [
        {
          "output_type": "stream",
          "name": "stdout",
          "text": [
            "(<PIL.Image.Image image mode=RGB size=32x32 at 0x7F9A6DB54F70>, 6)\n",
            "Label 6\n"
          ]
        },
        {
          "output_type": "display_data",
          "data": {
            "text/plain": [
              "<Figure size 432x288 with 1 Axes>"
            ],
            "image/png": "[encoded data removed]"
          },
          "metadata": {
            "needs_background": "light"
          }
        }
      ]
    },
    {
      "cell_type": "code",
      "source": [
        "print(dataset[10])\n",
        "image,label = dataset[10]\n",
        "plt.imshow(image,cmap='gray')\n",
        "print('Label',label)"
      ],
      "metadata": {
        "colab": {
          "base_uri": "https://localhost:8080/",
          "height": 302
        },
        "id": "ojNNaIV19B5w",
        "outputId": "add96a21-c9bb-4b78-d3a6-37c22c43ef98"
      },
      "execution_count": null,
      "outputs": [
        {
          "output_type": "stream",
          "name": "stdout",
          "text": [
            "(<PIL.Image.Image image mode=RGB size=32x32 at 0x7F9A6DBACD30>, 4)\n",
            "Label 4\n"
          ]
        },
        {
          "output_type": "display_data",
          "data": {
            "text/plain": [
              "<Figure size 432x288 with 1 Axes>"
            ],
            "image/png": "[encoded data removed]"
          },
          "metadata": {
            "needs_background": "light"
          }
        }
      ]
    },
    {
      "cell_type": "code",
      "source": [
        "# transforming the images into the tensors\n",
        "train_dataset = CIFAR10(root='data/',download=True, train=True, transform = transforms.Compose([\n",
        "    transforms.Grayscale(1),\n",
        "    transforms.ToTensor()]))"
      ],
      "metadata": {
        "id": "7BuJuJ7r9lWx",
        "colab": {
          "base_uri": "https://localhost:8080/"
        },
        "outputId": "19a62711-2370-4980-82c3-714770794807"
      },
      "execution_count": null,
      "outputs": [
        {
          "output_type": "stream",
          "name": "stdout",
          "text": [
            "Files already downloaded and verified\n"
          ]
        }
      ]
    },
    {
      "cell_type": "code",
      "source": [
        "len(train_dataset)"
      ],
      "metadata": {
        "colab": {
          "base_uri": "https://localhost:8080/"
        },
        "id": "0eJEnK1f-15c",
        "outputId": "7d2e2007-cae5-4e6a-9d30-b3163a3be659"
      },
      "execution_count": null,
      "outputs": [
        {
          "output_type": "execute_result",
          "data": {
            "text/plain": [
              "50000"
            ]
          },
          "metadata": {},
          "execution_count": 139
        }
      ]
    },
    {
      "cell_type": "code",
      "source": [
        "img, label = train_dataset[0]\n",
        "print(img.shape, label)"
      ],
      "metadata": {
        "id": "LhwotD5M_Cao",
        "colab": {
          "base_uri": "https://localhost:8080/"
        },
        "outputId": "d6b54844-a83f-405b-f5be-9ccd523e2e05"
      },
      "execution_count": null,
      "outputs": [
        {
          "output_type": "stream",
          "name": "stdout",
          "text": [
            "torch.Size([1, 32, 32]) 6\n"
          ]
        }
      ]
    },
    {
      "cell_type": "code",
      "source": [
        "print(train_dataset.classes)"
      ],
      "metadata": {
        "colab": {
          "base_uri": "https://localhost:8080/"
        },
        "id": "9K_1lNk_wmXr",
        "outputId": "70651a01-3698-4ef7-fafa-77dab2587d8a"
      },
      "execution_count": null,
      "outputs": [
        {
          "output_type": "stream",
          "name": "stdout",
          "text": [
            "['airplane', 'automobile', 'bird', 'cat', 'deer', 'dog', 'frog', 'horse', 'ship', 'truck']\n"
          ]
        }
      ]
    },
    {
      "cell_type": "code",
      "source": [
        "from torch.utils.data import DataLoader\n",
        "train_dataloader = DataLoader(train_dataset, batch_size=32, drop_last=True,shuffle=True)\n",
        "test_dataloader = DataLoader(test_dataset, batch_size=32,drop_last=True, shuffle=True)"
      ],
      "metadata": {
        "id": "VEH86gbzx4OU"
      },
      "execution_count": null,
      "outputs": []
    },
    {
      "cell_type": "code",
      "source": [
        "# #Calculate accuracy\n",
        "# def accuracy_fn(y_true, y_pred):\n",
        "#   correct = torch.eq(y_true, y_pred).sum().item()\n",
        "#   acc= (correct/len(y_pred))*100\n",
        "#   return acc"
      ],
      "metadata": {
        "id": "e9Anpjw256Hx"
      },
      "execution_count": null,
      "outputs": []
    },
    {
      "cell_type": "code",
      "source": [
        "#building a multiclass classification model\n",
        "device= \"cuda\" if torch.cuda.is_available() else \"cpu\"\n",
        "device"
      ],
      "metadata": {
        "colab": {
          "base_uri": "https://localhost:8080/",
          "height": 36
        },
        "id": "s_nSRHDsx9Au",
        "outputId": "08fb8fbe-8948-4747-8875-e3ff14fd1557"
      },
      "execution_count": null,
      "outputs": [
        {
          "output_type": "execute_result",
          "data": {
            "text/plain": [
              "'cpu'"
            ],
            "application/vnd.google.colaboratory.intrinsic+json": {
              "type": "string"
            }
          },
          "metadata": {},
          "execution_count": 143
        }
      ]
    },
    {
      "cell_type": "markdown",
      "source": [
        "# 3layer Sigmoid activaton function"
      ],
      "metadata": {
        "id": "W8MSSAOBdr5m"
      }
    },
    {
      "cell_type": "code",
      "source": [
        "from torch import nn\n",
        "#building a multiclass classification model\n",
        "class CifarModel(nn.Module):\n",
        "  def __init__(self, input_features, output_features, hidden_units=8):\n",
        "    super().__init__()\n",
        "    self.linear_layer_stack= nn.Sequential(\n",
        "        nn.Linear(in_features= input_features, out_features=hidden_units),\n",
        "        nn.Sigmoid(),\n",
        "        nn.Linear(in_features=hidden_units, out_features=hidden_units),\n",
        "        nn.Sigmoid(),\n",
        "        nn.Linear(in_features=hidden_units, out_features=output_features)\n",
        "    )\n",
        "\n",
        "  def forward(self,x):\n",
        "    x=x.reshape(-1,1024)\n",
        "    return self.linear_layer_stack(x)\n",
        "\n",
        "  #create an instance of model and send it to the target device\n",
        "model_0= CifarModel(input_features=1024,\n",
        "                   output_features=10,\n",
        "                   hidden_units=100).to(device)\n",
        "model_0\n"
      ],
      "metadata": {
        "colab": {
          "base_uri": "https://localhost:8080/"
        },
        "id": "uKbwLO3XyPbq",
        "outputId": "bdac5171-56e1-4ce4-89c5-78b302204a82"
      },
      "execution_count": null,
      "outputs": [
        {
          "output_type": "execute_result",
          "data": {
            "text/plain": [
              "CifarModel(\n",
              "  (linear_layer_stack): Sequential(\n",
              "    (0): Linear(in_features=1024, out_features=100, bias=True)\n",
              "    (1): Sigmoid()\n",
              "    (2): Linear(in_features=100, out_features=100, bias=True)\n",
              "    (3): Sigmoid()\n",
              "    (4): Linear(in_features=100, out_features=10, bias=True)\n",
              "  )\n",
              ")"
            ]
          },
          "metadata": {},
          "execution_count": 75
        }
      ]
    },
    {
      "cell_type": "code",
      "source": [
        "#create a loss function and an optimizer for multi-class classification model\n",
        "loss_fn= nn.CrossEntropyLoss()\n",
        "optimizer = torch.optim.SGD(params=model_0.parameters(), lr=0.1)\n"
      ],
      "metadata": {
        "id": "9iOItB9J4f24"
      },
      "execution_count": null,
      "outputs": []
    },
    {
      "cell_type": "markdown",
      "source": [
        "# Training the Model"
      ],
      "metadata": {
        "id": "AmLT-W2Q-sCA"
      }
    },
    {
      "cell_type": "code",
      "source": [
        "\n",
        "torch.manual_seed(42)\n",
        "torch.cuda.manual_seed(42)\n",
        "\n",
        "#set number of epochs\n",
        "epochs=50\n",
        "epoch_count=[]\n",
        "train_loss_list=[]\n",
        "test_loss_list=[]\n",
        "\n",
        "#loop through data\n",
        "for epoch in range(epochs):\n",
        "  train_loss = 0\n",
        "\n",
        "  for batch, (X, y) in enumerate(train_dataloader):\n",
        "    X_train, y_train =X.to(device), y.to(device)\n",
        "    #training\n",
        "    model_0.train()\n",
        "\n",
        "    #1. forward pass\n",
        "    y_logits = model_0(X)\n",
        "\n",
        "    #2.Calculate the loss/acc\n",
        "    loss = loss_fn(y_logits, y)\n",
        "    # acc = accuracy_fn(y_true=y, y_pred=y_logits.argmax(dim=1))\n",
        "\n",
        "    train_loss = train_loss + loss\n",
        "    \n",
        "    #3.Optimizer zero grad\n",
        "    optimizer.zero_grad()\n",
        "\n",
        "    #4. Loss backward\n",
        "    loss.backward()\n",
        "\n",
        "    #5. optimizer step(gradient descent)\n",
        "    optimizer.step()\n",
        "\n",
        "  \n",
        "  ##Testing\n",
        "  model_0.eval()\n",
        "  with torch.inference_mode():\n",
        "    test_loss = 0\n",
        "    for X, y in test_dataloader:\n",
        "      X_test, y_test =X.to(device), y.to(device)\n",
        "    #1. forward pass\n",
        "      test_logits = model_0(X)\n",
        "      # test_pred = torch.softmax(test_logits, dim=1).argmax(dim=1)\n",
        "\n",
        "      #2. calculte the loss\n",
        "      test_loss = test_loss + loss_fn(test_logits, y)\n",
        "\n",
        "      \n",
        "      # test_acc= accuracy_fn(y_true=y,\n",
        "      #                      y_pred=test_logits.argmax(dim=1))\n",
        "    \n",
        "  #print out whats hapening\n",
        "  train_loss = train_loss / len(train_dataloader)\n",
        "  test_loss = test_loss / len(test_dataloader)\n",
        "  if epoch%2 ==0 :\n",
        "   epoch_count.append(epoch)\n",
        "   #add train loss to the list\n",
        "   train_loss_list.append(train_loss)\n",
        "   #add test loss to the list\n",
        "   test_loss_list.append(test_loss)\n",
        "\n",
        "  print(f\"Epoch: {epoch} |train loss:{train_loss:.5f} | Test loss:{test_loss:.5f} \")\n",
        "  \n",
        "\n",
        "\n"
      ],
      "metadata": {
        "colab": {
          "base_uri": "https://localhost:8080/"
        },
        "id": "UAzas_eF4wIR",
        "outputId": "77562628-b923-4b5c-d4ca-615fc96cc747"
      },
      "execution_count": null,
      "outputs": [
        {
          "output_type": "stream",
          "name": "stdout",
          "text": [
            "Epoch: 0 |train loss:2.26363 | Test loss:2.18222 \n",
            "Epoch: 1 |train loss:2.12688 | Test loss:2.08316 \n",
            "Epoch: 2 |train loss:2.06689 | Test loss:2.05695 \n",
            "Epoch: 3 |train loss:2.03662 | Test loss:2.02401 \n",
            "Epoch: 4 |train loss:2.00223 | Test loss:1.99541 \n",
            "Epoch: 5 |train loss:1.96885 | Test loss:1.99386 \n",
            "Epoch: 6 |train loss:1.93962 | Test loss:1.93076 \n",
            "Epoch: 7 |train loss:1.90956 | Test loss:1.92147 \n",
            "Epoch: 8 |train loss:1.88425 | Test loss:1.88586 \n",
            "Epoch: 9 |train loss:1.86158 | Test loss:1.89265 \n",
            "Epoch: 10 |train loss:1.83936 | Test loss:1.82524 \n",
            "Epoch: 11 |train loss:1.81966 | Test loss:1.81253 \n",
            "Epoch: 12 |train loss:1.79951 | Test loss:1.79591 \n",
            "Epoch: 13 |train loss:1.78249 | Test loss:1.80158 \n",
            "Epoch: 14 |train loss:1.76420 | Test loss:1.75865 \n",
            "Epoch: 15 |train loss:1.75116 | Test loss:1.78352 \n",
            "Epoch: 16 |train loss:1.73521 | Test loss:1.74409 \n",
            "Epoch: 17 |train loss:1.72219 | Test loss:1.75559 \n",
            "Epoch: 18 |train loss:1.70772 | Test loss:1.74875 \n",
            "Epoch: 19 |train loss:1.69587 | Test loss:1.75151 \n",
            "Epoch: 20 |train loss:1.68464 | Test loss:1.73052 \n",
            "Epoch: 21 |train loss:1.67386 | Test loss:1.70265 \n",
            "Epoch: 22 |train loss:1.66159 | Test loss:1.69664 \n",
            "Epoch: 23 |train loss:1.65119 | Test loss:1.68973 \n",
            "Epoch: 24 |train loss:1.64096 | Test loss:1.72723 \n",
            "Epoch: 25 |train loss:1.63002 | Test loss:1.69239 \n",
            "Epoch: 26 |train loss:1.62150 | Test loss:1.71515 \n",
            "Epoch: 27 |train loss:1.61073 | Test loss:1.68264 \n",
            "Epoch: 28 |train loss:1.60351 | Test loss:1.67153 \n",
            "Epoch: 29 |train loss:1.59585 | Test loss:1.69918 \n",
            "Epoch: 30 |train loss:1.58632 | Test loss:1.68747 \n",
            "Epoch: 31 |train loss:1.57910 | Test loss:1.65812 \n",
            "Epoch: 32 |train loss:1.56889 | Test loss:1.67046 \n",
            "Epoch: 33 |train loss:1.56168 | Test loss:1.65160 \n",
            "Epoch: 34 |train loss:1.55472 | Test loss:1.65315 \n",
            "Epoch: 35 |train loss:1.54723 | Test loss:1.63344 \n",
            "Epoch: 36 |train loss:1.54188 | Test loss:1.64188 \n",
            "Epoch: 37 |train loss:1.53182 | Test loss:1.63317 \n",
            "Epoch: 38 |train loss:1.52553 | Test loss:1.65341 \n",
            "Epoch: 39 |train loss:1.52047 | Test loss:1.64184 \n",
            "Epoch: 40 |train loss:1.51228 | Test loss:1.64678 \n",
            "Epoch: 41 |train loss:1.50737 | Test loss:1.60564 \n",
            "Epoch: 42 |train loss:1.50003 | Test loss:1.64709 \n",
            "Epoch: 43 |train loss:1.49188 | Test loss:1.62425 \n",
            "Epoch: 44 |train loss:1.48673 | Test loss:1.61992 \n",
            "Epoch: 45 |train loss:1.48097 | Test loss:1.60868 \n",
            "Epoch: 46 |train loss:1.47397 | Test loss:1.62941 \n",
            "Epoch: 47 |train loss:1.46953 | Test loss:1.63957 \n",
            "Epoch: 48 |train loss:1.46340 | Test loss:1.65196 \n",
            "Epoch: 49 |train loss:1.45747 | Test loss:1.61210 \n"
          ]
        }
      ]
    },
    {
      "cell_type": "code",
      "source": [
        "import numpy as np\n",
        "\n",
        "#plot loss curves\n",
        "plt.plot(epoch_count, np.array(torch.tensor(train_loss_list).numpy()), label ='Train loss')\n",
        "plt.plot(epoch_count, np.array(torch.tensor(test_loss_list).numpy()), label='Test loss')\n",
        "plt.title(\"training & test loss curves\")\n",
        "plt.ylabel(\"loss\")\n",
        "plt.xlabel('Epochs')\n",
        "plt.legend();"
      ],
      "metadata": {
        "colab": {
          "base_uri": "https://localhost:8080/",
          "height": 295
        },
        "id": "-EqzBbDyUWbY",
        "outputId": "6bc599cb-1c71-40c6-ccde-e4242b35a22a"
      },
      "execution_count": null,
      "outputs": [
        {
          "output_type": "display_data",
          "data": {
            "text/plain": [
              "<Figure size 432x288 with 1 Axes>"
            ],
            "image/png": "[encoded data removed]"
          },
          "metadata": {
            "needs_background": "light"
          }
        }
      ]
    },
    {
      "cell_type": "markdown",
      "source": [
        "#3 layer tanh activation function"
      ],
      "metadata": {
        "id": "Xd0BLJGPVj6X"
      }
    },
    {
      "cell_type": "code",
      "source": [
        "from torch import nn\n",
        "#building a multiclass classification model\n",
        "class CifarModel_1(nn.Module):\n",
        "  def __init__(self, input_features, output_features, hidden_units=8):\n",
        "    super().__init__()\n",
        "    self.linear_layer_stack= nn.Sequential(\n",
        "        nn.Linear(in_features= input_features, out_features=hidden_units),\n",
        "        nn.Tanh(),\n",
        "        nn.Linear(in_features=hidden_units, out_features=hidden_units),\n",
        "        nn.Tanh(),\n",
        "        nn.Linear(in_features=hidden_units, out_features=output_features)\n",
        "    )\n",
        "\n",
        "  def forward(self,x):\n",
        "    x=x.reshape(-1,1024)\n",
        "    return self.linear_layer_stack(x)\n",
        "\n",
        "  #create an instance of model and send it to the target device\n",
        "model_1= CifarModel_1(input_features=1024,\n",
        "                   output_features=10,\n",
        "                   hidden_units=100).to(device)\n",
        "model_1\n"
      ],
      "metadata": {
        "colab": {
          "base_uri": "https://localhost:8080/"
        },
        "id": "83es4PMud6LR",
        "outputId": "478b8031-237a-4aba-f19d-b2d34d4499f0"
      },
      "execution_count": null,
      "outputs": [
        {
          "output_type": "execute_result",
          "data": {
            "text/plain": [
              "CifarModel_1(\n",
              "  (linear_layer_stack): Sequential(\n",
              "    (0): Linear(in_features=1024, out_features=100, bias=True)\n",
              "    (1): Tanh()\n",
              "    (2): Linear(in_features=100, out_features=100, bias=True)\n",
              "    (3): Tanh()\n",
              "    (4): Linear(in_features=100, out_features=10, bias=True)\n",
              "  )\n",
              ")"
            ]
          },
          "metadata": {},
          "execution_count": 119
        }
      ]
    },
    {
      "cell_type": "code",
      "source": [
        "#create a loss function and an optimizer for multi-class classification model\n",
        "loss_fn= nn.CrossEntropyLoss()\n",
        "optimizer = torch.optim.SGD(params=model_1.parameters(), lr=0.1)\n"
      ],
      "metadata": {
        "id": "8tRrGCtDd6-_"
      },
      "execution_count": null,
      "outputs": []
    },
    {
      "cell_type": "code",
      "source": [
        "\n",
        "torch.manual_seed(42)\n",
        "torch.cuda.manual_seed(42)\n",
        "\n",
        "#set number of epochs\n",
        "epochs=20\n",
        "epoch_count=[]\n",
        "train_loss_list_2=[]\n",
        "test_loss_list_2=[]\n",
        "\n",
        "#loop through data\n",
        "for epoch in range(epochs):\n",
        "  train_loss = 0\n",
        "\n",
        "  for batch, (X, y) in enumerate(train_dataloader):\n",
        "    X_train, y_train =X.to(device), y.to(device)\n",
        "    #training\n",
        "    model_1.train()\n",
        "\n",
        "    #1. forward pass\n",
        "    y_logits = model_1(X)\n",
        "\n",
        "    #2.Calculate the loss/acc\n",
        "    loss = loss_fn(y_logits, y)\n",
        "    # acc = accuracy_fn(y_true=y, y_pred=y_logits.argmax(dim=1))\n",
        "\n",
        "    train_loss = train_loss + loss\n",
        "    \n",
        "    #3.Optimizer zero grad\n",
        "    optimizer.zero_grad()\n",
        "\n",
        "    #4. Loss backward\n",
        "    loss.backward()\n",
        "\n",
        "    #5. optimizer step(gradient descent)\n",
        "    optimizer.step()\n",
        "\n",
        "  \n",
        "  ##Testing\n",
        "  model_1.eval()\n",
        "  with torch.inference_mode():\n",
        "    test_loss = 0\n",
        "    for X, y in test_dataloader:\n",
        "      X_test, y_test =X.to(device), y.to(device)\n",
        "    #1. forward pass\n",
        "      test_logits = model_1(X)\n",
        "      # test_pred = torch.softmax(test_logits, dim=1).argmax(dim=1)\n",
        "\n",
        "      #2. calculte the loss\n",
        "      test_loss = test_loss + loss_fn(test_logits, y)\n",
        "\n",
        "      \n",
        "      # test_acc= accuracy_fn(y_true=y,\n",
        "      #                      y_pred=test_logits.argmax(dim=1))\n",
        "    \n",
        "  #print out whats hapening\n",
        "  train_loss = train_loss / len(train_dataloader)\n",
        "  test_loss = test_loss / len(test_dataloader)\n",
        "  if epoch%2 == 0 :\n",
        "   epoch_count.append(epoch)\n",
        "   #add train loss to the list\n",
        "   train_loss_list_2.append(train_loss)\n",
        "   #add test loss to the list\n",
        "   test_loss_list_2.append(test_loss)\n",
        "\n",
        "  print(f\"Epoch: {epoch} |train loss:{train_loss:.5f} | Test loss:{test_loss:.5f} \")\n",
        "  \n",
        "\n",
        "\n"
      ],
      "metadata": {
        "colab": {
          "base_uri": "https://localhost:8080/"
        },
        "id": "gUhEHMx-eE7Q",
        "outputId": "e832a178-d661-4d28-b88c-79c12c12880c"
      },
      "execution_count": null,
      "outputs": [
        {
          "output_type": "stream",
          "name": "stdout",
          "text": [
            "Epoch: 0 |train loss:2.07123 | Test loss:2.01030 \n",
            "Epoch: 1 |train loss:1.94071 | Test loss:1.90074 \n",
            "Epoch: 2 |train loss:1.87464 | Test loss:1.83263 \n",
            "Epoch: 3 |train loss:1.82932 | Test loss:1.81108 \n",
            "Epoch: 4 |train loss:1.80056 | Test loss:1.80790 \n",
            "Epoch: 5 |train loss:1.77611 | Test loss:1.86740 \n",
            "Epoch: 6 |train loss:1.75336 | Test loss:1.78900 \n",
            "Epoch: 7 |train loss:1.73294 | Test loss:1.86520 \n",
            "Epoch: 8 |train loss:1.71387 | Test loss:1.84589 \n",
            "Epoch: 9 |train loss:1.70107 | Test loss:1.77356 \n",
            "Epoch: 10 |train loss:1.68386 | Test loss:1.71276 \n",
            "Epoch: 11 |train loss:1.66790 | Test loss:1.75220 \n",
            "Epoch: 12 |train loss:1.65475 | Test loss:1.72324 \n",
            "Epoch: 13 |train loss:1.63881 | Test loss:1.76607 \n",
            "Epoch: 14 |train loss:1.62691 | Test loss:1.72412 \n",
            "Epoch: 15 |train loss:1.61478 | Test loss:1.74528 \n",
            "Epoch: 16 |train loss:1.60454 | Test loss:1.69940 \n",
            "Epoch: 17 |train loss:1.59199 | Test loss:1.69595 \n",
            "Epoch: 18 |train loss:1.58057 | Test loss:1.72141 \n",
            "Epoch: 19 |train loss:1.57164 | Test loss:1.74992 \n"
          ]
        }
      ]
    },
    {
      "cell_type": "code",
      "source": [
        "print(epoch_count)\n",
        "\n",
        "print(torch.tensor(train_loss_list_2).numpy())"
      ],
      "metadata": {
        "colab": {
          "base_uri": "https://localhost:8080/"
        },
        "id": "NN1gSdhZw4z8",
        "outputId": "992d19b3-bb87-4317-9ac9-f24dc19e1d9a"
      },
      "execution_count": null,
      "outputs": [
        {
          "output_type": "stream",
          "name": "stdout",
          "text": [
            "[0, 2, 4, 6, 8, 10, 12, 14, 16, 18]\n",
            "[2.0712304 1.87464   1.8005558 1.7533582 1.7138658 1.6838566 1.6547526\n",
            " 1.6269072 1.604544  1.5805678]\n"
          ]
        }
      ]
    },
    {
      "cell_type": "code",
      "source": [
        "print(torch.tensor(test_loss_list_2).numpy())"
      ],
      "metadata": {
        "colab": {
          "base_uri": "https://localhost:8080/"
        },
        "id": "9n5iQu0xxyVl",
        "outputId": "cee01678-79eb-4bd2-94b2-9835f97647bc"
      },
      "execution_count": null,
      "outputs": [
        {
          "output_type": "stream",
          "name": "stdout",
          "text": [
            "[2.010296  1.8326299 1.8079004 1.7890034 1.8458874 1.7127601 1.7232361\n",
            " 1.7241193 1.6994    1.7214084]\n"
          ]
        }
      ]
    },
    {
      "cell_type": "code",
      "source": [
        "import numpy as np\n",
        "\n",
        "#plot loss curves\n",
        "plt.plot(range(len(train_loss_list)), np.array(torch.tensor(train_loss_list_2).numpy()), label ='Train loss')\n",
        "plt.plot(range(len(test_loss_list)), np.array(torch.tensor(test_loss_list_2).numpy()), label='Test loss')\n",
        "plt.title(\"training & test loss curves\")\n",
        "plt.ylabel(\"loss\")\n",
        "plt.xlabel('Epochs')\n",
        "plt.legend();"
      ],
      "metadata": {
        "colab": {
          "base_uri": "https://localhost:8080/",
          "height": 647
        },
        "id": "UctDRMs9eRDF",
        "outputId": "132427b4-93e6-40fd-a137-4194996879d7"
      },
      "execution_count": null,
      "outputs": [
        {
          "output_type": "error",
          "ename": "ValueError",
          "evalue": "ignored",
          "traceback": [
            "\u001b[0;31m---------------------------------------------------------------------------\u001b[0m",
            "\u001b[0;31mValueError\u001b[0m                                Traceback (most recent call last)",
            "\u001b[0;32m<ipython-input-125-c9a0c9c0594a>\u001b[0m in \u001b[0;36m<module>\u001b[0;34m\u001b[0m\n\u001b[1;32m      2\u001b[0m \u001b[0;34m\u001b[0m\u001b[0m\n\u001b[1;32m      3\u001b[0m \u001b[0;31m#plot loss curves\u001b[0m\u001b[0;34m\u001b[0m\u001b[0;34m\u001b[0m\u001b[0;34m\u001b[0m\u001b[0m\n\u001b[0;32m----> 4\u001b[0;31m \u001b[0mplt\u001b[0m\u001b[0;34m.\u001b[0m\u001b[0mplot\u001b[0m\u001b[0;34m(\u001b[0m\u001b[0mrange\u001b[0m\u001b[0;34m(\u001b[0m\u001b[0mlen\u001b[0m\u001b[0;34m(\u001b[0m\u001b[0mtrain_loss_list\u001b[0m\u001b[0;34m)\u001b[0m\u001b[0;34m)\u001b[0m\u001b[0;34m,\u001b[0m \u001b[0mnp\u001b[0m\u001b[0;34m.\u001b[0m\u001b[0marray\u001b[0m\u001b[0;34m(\u001b[0m\u001b[0mtorch\u001b[0m\u001b[0;34m.\u001b[0m\u001b[0mtensor\u001b[0m\u001b[0;34m(\u001b[0m\u001b[0mtrain_loss_list_2\u001b[0m\u001b[0;34m)\u001b[0m\u001b[0;34m.\u001b[0m\u001b[0mnumpy\u001b[0m\u001b[0;34m(\u001b[0m\u001b[0;34m)\u001b[0m\u001b[0;34m)\u001b[0m\u001b[0;34m,\u001b[0m \u001b[0mlabel\u001b[0m \u001b[0;34m=\u001b[0m\u001b[0;34m'Train loss'\u001b[0m\u001b[0;34m)\u001b[0m\u001b[0;34m\u001b[0m\u001b[0;34m\u001b[0m\u001b[0m\n\u001b[0m\u001b[1;32m      5\u001b[0m \u001b[0mplt\u001b[0m\u001b[0;34m.\u001b[0m\u001b[0mplot\u001b[0m\u001b[0;34m(\u001b[0m\u001b[0mrange\u001b[0m\u001b[0;34m(\u001b[0m\u001b[0mlen\u001b[0m\u001b[0;34m(\u001b[0m\u001b[0mtest_loss_list\u001b[0m\u001b[0;34m)\u001b[0m\u001b[0;34m)\u001b[0m\u001b[0;34m,\u001b[0m \u001b[0mnp\u001b[0m\u001b[0;34m.\u001b[0m\u001b[0marray\u001b[0m\u001b[0;34m(\u001b[0m\u001b[0mtorch\u001b[0m\u001b[0;34m.\u001b[0m\u001b[0mtensor\u001b[0m\u001b[0;34m(\u001b[0m\u001b[0mtest_loss_list_2\u001b[0m\u001b[0;34m)\u001b[0m\u001b[0;34m.\u001b[0m\u001b[0mnumpy\u001b[0m\u001b[0;34m(\u001b[0m\u001b[0;34m)\u001b[0m\u001b[0;34m)\u001b[0m\u001b[0;34m,\u001b[0m \u001b[0mlabel\u001b[0m\u001b[0;34m=\u001b[0m\u001b[0;34m'Test loss'\u001b[0m\u001b[0;34m)\u001b[0m\u001b[0;34m\u001b[0m\u001b[0;34m\u001b[0m\u001b[0m\n\u001b[1;32m      6\u001b[0m \u001b[0mplt\u001b[0m\u001b[0;34m.\u001b[0m\u001b[0mtitle\u001b[0m\u001b[0;34m(\u001b[0m\u001b[0;34m\"training & test loss curves\"\u001b[0m\u001b[0;34m)\u001b[0m\u001b[0;34m\u001b[0m\u001b[0;34m\u001b[0m\u001b[0m\n",
            "\u001b[0;32m/usr/local/lib/python3.8/dist-packages/matplotlib/pyplot.py\u001b[0m in \u001b[0;36mplot\u001b[0;34m(scalex, scaley, data, *args, **kwargs)\u001b[0m\n\u001b[1;32m   2759\u001b[0m \u001b[0;34m@\u001b[0m\u001b[0mdocstring\u001b[0m\u001b[0;34m.\u001b[0m\u001b[0mcopy\u001b[0m\u001b[0;34m(\u001b[0m\u001b[0mAxes\u001b[0m\u001b[0;34m.\u001b[0m\u001b[0mplot\u001b[0m\u001b[0;34m)\u001b[0m\u001b[0;34m\u001b[0m\u001b[0;34m\u001b[0m\u001b[0m\n\u001b[1;32m   2760\u001b[0m \u001b[0;32mdef\u001b[0m \u001b[0mplot\u001b[0m\u001b[0;34m(\u001b[0m\u001b[0;34m*\u001b[0m\u001b[0margs\u001b[0m\u001b[0;34m,\u001b[0m \u001b[0mscalex\u001b[0m\u001b[0;34m=\u001b[0m\u001b[0;32mTrue\u001b[0m\u001b[0;34m,\u001b[0m \u001b[0mscaley\u001b[0m\u001b[0;34m=\u001b[0m\u001b[0;32mTrue\u001b[0m\u001b[0;34m,\u001b[0m \u001b[0mdata\u001b[0m\u001b[0;34m=\u001b[0m\u001b[0;32mNone\u001b[0m\u001b[0;34m,\u001b[0m \u001b[0;34m**\u001b[0m\u001b[0mkwargs\u001b[0m\u001b[0;34m)\u001b[0m\u001b[0;34m:\u001b[0m\u001b[0;34m\u001b[0m\u001b[0;34m\u001b[0m\u001b[0m\n\u001b[0;32m-> 2761\u001b[0;31m     return gca().plot(\n\u001b[0m\u001b[1;32m   2762\u001b[0m         *args, scalex=scalex, scaley=scaley, **({\"data\": data} if data\n\u001b[1;32m   2763\u001b[0m         is not None else {}), **kwargs)\n",
            "\u001b[0;32m/usr/local/lib/python3.8/dist-packages/matplotlib/axes/_axes.py\u001b[0m in \u001b[0;36mplot\u001b[0;34m(self, scalex, scaley, data, *args, **kwargs)\u001b[0m\n\u001b[1;32m   1645\u001b[0m         \"\"\"\n\u001b[1;32m   1646\u001b[0m         \u001b[0mkwargs\u001b[0m \u001b[0;34m=\u001b[0m \u001b[0mcbook\u001b[0m\u001b[0;34m.\u001b[0m\u001b[0mnormalize_kwargs\u001b[0m\u001b[0;34m(\u001b[0m\u001b[0mkwargs\u001b[0m\u001b[0;34m,\u001b[0m \u001b[0mmlines\u001b[0m\u001b[0;34m.\u001b[0m\u001b[0mLine2D\u001b[0m\u001b[0;34m)\u001b[0m\u001b[0;34m\u001b[0m\u001b[0;34m\u001b[0m\u001b[0m\n\u001b[0;32m-> 1647\u001b[0;31m         \u001b[0mlines\u001b[0m \u001b[0;34m=\u001b[0m \u001b[0;34m[\u001b[0m\u001b[0;34m*\u001b[0m\u001b[0mself\u001b[0m\u001b[0;34m.\u001b[0m\u001b[0m_get_lines\u001b[0m\u001b[0;34m(\u001b[0m\u001b[0;34m*\u001b[0m\u001b[0margs\u001b[0m\u001b[0;34m,\u001b[0m \u001b[0mdata\u001b[0m\u001b[0;34m=\u001b[0m\u001b[0mdata\u001b[0m\u001b[0;34m,\u001b[0m \u001b[0;34m**\u001b[0m\u001b[0mkwargs\u001b[0m\u001b[0;34m)\u001b[0m\u001b[0;34m]\u001b[0m\u001b[0;34m\u001b[0m\u001b[0;34m\u001b[0m\u001b[0m\n\u001b[0m\u001b[1;32m   1648\u001b[0m         \u001b[0;32mfor\u001b[0m \u001b[0mline\u001b[0m \u001b[0;32min\u001b[0m \u001b[0mlines\u001b[0m\u001b[0;34m:\u001b[0m\u001b[0;34m\u001b[0m\u001b[0;34m\u001b[0m\u001b[0m\n\u001b[1;32m   1649\u001b[0m             \u001b[0mself\u001b[0m\u001b[0;34m.\u001b[0m\u001b[0madd_line\u001b[0m\u001b[0;34m(\u001b[0m\u001b[0mline\u001b[0m\u001b[0;34m)\u001b[0m\u001b[0;34m\u001b[0m\u001b[0;34m\u001b[0m\u001b[0m\n",
            "\u001b[0;32m/usr/local/lib/python3.8/dist-packages/matplotlib/axes/_base.py\u001b[0m in \u001b[0;36m__call__\u001b[0;34m(self, *args, **kwargs)\u001b[0m\n\u001b[1;32m    214\u001b[0m                 \u001b[0mthis\u001b[0m \u001b[0;34m+=\u001b[0m \u001b[0margs\u001b[0m\u001b[0;34m[\u001b[0m\u001b[0;36m0\u001b[0m\u001b[0;34m]\u001b[0m\u001b[0;34m,\u001b[0m\u001b[0;34m\u001b[0m\u001b[0;34m\u001b[0m\u001b[0m\n\u001b[1;32m    215\u001b[0m                 \u001b[0margs\u001b[0m \u001b[0;34m=\u001b[0m \u001b[0margs\u001b[0m\u001b[0;34m[\u001b[0m\u001b[0;36m1\u001b[0m\u001b[0;34m:\u001b[0m\u001b[0;34m]\u001b[0m\u001b[0;34m\u001b[0m\u001b[0;34m\u001b[0m\u001b[0m\n\u001b[0;32m--> 216\u001b[0;31m             \u001b[0;32myield\u001b[0m \u001b[0;32mfrom\u001b[0m \u001b[0mself\u001b[0m\u001b[0;34m.\u001b[0m\u001b[0m_plot_args\u001b[0m\u001b[0;34m(\u001b[0m\u001b[0mthis\u001b[0m\u001b[0;34m,\u001b[0m \u001b[0mkwargs\u001b[0m\u001b[0;34m)\u001b[0m\u001b[0;34m\u001b[0m\u001b[0;34m\u001b[0m\u001b[0m\n\u001b[0m\u001b[1;32m    217\u001b[0m \u001b[0;34m\u001b[0m\u001b[0m\n\u001b[1;32m    218\u001b[0m     \u001b[0;32mdef\u001b[0m \u001b[0mget_next_color\u001b[0m\u001b[0;34m(\u001b[0m\u001b[0mself\u001b[0m\u001b[0;34m)\u001b[0m\u001b[0;34m:\u001b[0m\u001b[0;34m\u001b[0m\u001b[0;34m\u001b[0m\u001b[0m\n",
            "\u001b[0;32m/usr/local/lib/python3.8/dist-packages/matplotlib/axes/_base.py\u001b[0m in \u001b[0;36m_plot_args\u001b[0;34m(self, tup, kwargs)\u001b[0m\n\u001b[1;32m    340\u001b[0m \u001b[0;34m\u001b[0m\u001b[0m\n\u001b[1;32m    341\u001b[0m         \u001b[0;32mif\u001b[0m \u001b[0mx\u001b[0m\u001b[0;34m.\u001b[0m\u001b[0mshape\u001b[0m\u001b[0;34m[\u001b[0m\u001b[0;36m0\u001b[0m\u001b[0;34m]\u001b[0m \u001b[0;34m!=\u001b[0m \u001b[0my\u001b[0m\u001b[0;34m.\u001b[0m\u001b[0mshape\u001b[0m\u001b[0;34m[\u001b[0m\u001b[0;36m0\u001b[0m\u001b[0;34m]\u001b[0m\u001b[0;34m:\u001b[0m\u001b[0;34m\u001b[0m\u001b[0;34m\u001b[0m\u001b[0m\n\u001b[0;32m--> 342\u001b[0;31m             raise ValueError(f\"x and y must have same first dimension, but \"\n\u001b[0m\u001b[1;32m    343\u001b[0m                              f\"have shapes {x.shape} and {y.shape}\")\n\u001b[1;32m    344\u001b[0m         \u001b[0;32mif\u001b[0m \u001b[0mx\u001b[0m\u001b[0;34m.\u001b[0m\u001b[0mndim\u001b[0m \u001b[0;34m>\u001b[0m \u001b[0;36m2\u001b[0m \u001b[0;32mor\u001b[0m \u001b[0my\u001b[0m\u001b[0;34m.\u001b[0m\u001b[0mndim\u001b[0m \u001b[0;34m>\u001b[0m \u001b[0;36m2\u001b[0m\u001b[0;34m:\u001b[0m\u001b[0;34m\u001b[0m\u001b[0;34m\u001b[0m\u001b[0m\n",
            "\u001b[0;31mValueError\u001b[0m: x and y must have same first dimension, but have shapes (25,) and (10,)"
          ]
        },
        {
          "output_type": "display_data",
          "data": {
            "text/plain": [
              "<Figure size 432x288 with 1 Axes>"
            ],
            "image/png": "[encoded data removed]"
          },
          "metadata": {
            "needs_background": "light"
          }
        }
      ]
    },
    {
      "cell_type": "markdown",
      "source": [
        "#3layer model with sigmoid activation function and epochs =200"
      ],
      "metadata": {
        "id": "lqdgPufTezd7"
      }
    },
    {
      "cell_type": "code",
      "source": [
        "\n",
        "torch.manual_seed(42)\n",
        "torch.cuda.manual_seed(42)\n",
        "\n",
        "#set number of epochs\n",
        "epochs=100\n",
        "epoch_count=[]\n",
        "train_loss_list=[]\n",
        "test_loss_list=[]\n",
        "\n",
        "#loop through data\n",
        "for epoch in range(epochs):\n",
        "  train_loss = 0\n",
        "\n",
        "  for batch, (X, y) in enumerate(train_dataloader):\n",
        "    X_train, y_train =X.to(device), y.to(device)\n",
        "    #training\n",
        "    model_0.train()\n",
        "\n",
        "    #1. forward pass\n",
        "    y_logits = model_0(X)\n",
        "\n",
        "    #2.Calculate the loss/acc\n",
        "    loss = loss_fn(y_logits, y)\n",
        "    # acc = accuracy_fn(y_true=y, y_pred=y_logits.argmax(dim=1))\n",
        "\n",
        "    train_loss = train_loss + loss\n",
        "    \n",
        "    #3.Optimizer zero grad\n",
        "    optimizer.zero_grad()\n",
        "\n",
        "    #4. Loss backward\n",
        "    loss.backward()\n",
        "\n",
        "    #5. optimizer step(gradient descent)\n",
        "    optimizer.step()\n",
        "\n",
        "  \n",
        "  ##Testing\n",
        "  model_0.eval()\n",
        "  with torch.inference_mode():\n",
        "    test_loss = 0\n",
        "    for X, y in test_dataloader:\n",
        "      X_test, y_test =X.to(device), y.to(device)\n",
        "    #1. forward pass\n",
        "      test_logits = model_0(X)\n",
        "      # test_pred = torch.softmax(test_logits, dim=1).argmax(dim=1)\n",
        "\n",
        "      #2. calculte the loss\n",
        "      test_loss = test_loss + loss_fn(test_logits, y)\n",
        "\n",
        "      \n",
        "      # test_acc= accuracy_fn(y_true=y,\n",
        "      #                      y_pred=test_logits.argmax(dim=1))\n",
        "    \n",
        "  #print out whats hapening\n",
        "  train_loss = train_loss / len(train_dataloader)\n",
        "  test_loss = test_loss / len(test_dataloader)\n",
        "  if epoch%2 ==0 :\n",
        "   epoch_count.append(epoch)\n",
        "   #add train loss to the list\n",
        "   train_loss_list.append(train_loss)\n",
        "   #add test loss to the list\n",
        "   test_loss_list.append(test_loss)\n",
        "\n",
        "  print(f\"Epoch: {epoch} |train loss:{train_loss:.5f} | Test loss:{test_loss:.5f} \")\n",
        "  \n",
        "\n",
        "\n"
      ],
      "metadata": {
        "colab": {
          "base_uri": "https://localhost:8080/"
        },
        "id": "6lfKF5gNezn-",
        "outputId": "8f9197e2-5de5-4174-f362-d8e7d4b29a9a"
      },
      "execution_count": null,
      "outputs": [
        {
          "output_type": "stream",
          "name": "stdout",
          "text": [
            "Epoch: 0 |train loss:2.26363 | Test loss:2.18222 \n",
            "Epoch: 1 |train loss:2.12688 | Test loss:2.08316 \n",
            "Epoch: 2 |train loss:2.06689 | Test loss:2.05695 \n",
            "Epoch: 3 |train loss:2.03662 | Test loss:2.02401 \n",
            "Epoch: 4 |train loss:2.00223 | Test loss:1.99541 \n",
            "Epoch: 5 |train loss:1.96885 | Test loss:1.99386 \n",
            "Epoch: 6 |train loss:1.93962 | Test loss:1.93076 \n",
            "Epoch: 7 |train loss:1.90956 | Test loss:1.92147 \n",
            "Epoch: 8 |train loss:1.88425 | Test loss:1.88586 \n",
            "Epoch: 9 |train loss:1.86158 | Test loss:1.89265 \n",
            "Epoch: 10 |train loss:1.83936 | Test loss:1.82524 \n",
            "Epoch: 11 |train loss:1.81966 | Test loss:1.81253 \n",
            "Epoch: 12 |train loss:1.79951 | Test loss:1.79591 \n",
            "Epoch: 13 |train loss:1.78249 | Test loss:1.80158 \n",
            "Epoch: 14 |train loss:1.76420 | Test loss:1.75865 \n",
            "Epoch: 15 |train loss:1.75116 | Test loss:1.78352 \n",
            "Epoch: 16 |train loss:1.73521 | Test loss:1.74409 \n",
            "Epoch: 17 |train loss:1.72219 | Test loss:1.75559 \n",
            "Epoch: 18 |train loss:1.70772 | Test loss:1.74875 \n",
            "Epoch: 19 |train loss:1.69587 | Test loss:1.75151 \n",
            "Epoch: 20 |train loss:1.68464 | Test loss:1.73052 \n",
            "Epoch: 21 |train loss:1.67386 | Test loss:1.70265 \n",
            "Epoch: 22 |train loss:1.66159 | Test loss:1.69664 \n",
            "Epoch: 23 |train loss:1.65119 | Test loss:1.68973 \n",
            "Epoch: 24 |train loss:1.64096 | Test loss:1.72723 \n",
            "Epoch: 25 |train loss:1.63002 | Test loss:1.69239 \n",
            "Epoch: 26 |train loss:1.62150 | Test loss:1.71515 \n",
            "Epoch: 27 |train loss:1.61073 | Test loss:1.68264 \n",
            "Epoch: 28 |train loss:1.60351 | Test loss:1.67153 \n",
            "Epoch: 29 |train loss:1.59585 | Test loss:1.69918 \n",
            "Epoch: 30 |train loss:1.58632 | Test loss:1.68747 \n",
            "Epoch: 31 |train loss:1.57910 | Test loss:1.65812 \n",
            "Epoch: 32 |train loss:1.56889 | Test loss:1.67046 \n",
            "Epoch: 33 |train loss:1.56168 | Test loss:1.65160 \n",
            "Epoch: 34 |train loss:1.55472 | Test loss:1.65315 \n",
            "Epoch: 35 |train loss:1.54723 | Test loss:1.63344 \n",
            "Epoch: 36 |train loss:1.54188 | Test loss:1.64188 \n",
            "Epoch: 37 |train loss:1.53182 | Test loss:1.63317 \n",
            "Epoch: 38 |train loss:1.52553 | Test loss:1.65341 \n",
            "Epoch: 39 |train loss:1.52047 | Test loss:1.64184 \n",
            "Epoch: 40 |train loss:1.51228 | Test loss:1.64678 \n",
            "Epoch: 41 |train loss:1.50737 | Test loss:1.60564 \n",
            "Epoch: 42 |train loss:1.50003 | Test loss:1.64709 \n",
            "Epoch: 43 |train loss:1.49188 | Test loss:1.62425 \n",
            "Epoch: 44 |train loss:1.48673 | Test loss:1.61992 \n",
            "Epoch: 45 |train loss:1.48097 | Test loss:1.60868 \n",
            "Epoch: 46 |train loss:1.47397 | Test loss:1.62941 \n",
            "Epoch: 47 |train loss:1.46953 | Test loss:1.63957 \n",
            "Epoch: 48 |train loss:1.46340 | Test loss:1.65196 \n",
            "Epoch: 49 |train loss:1.45747 | Test loss:1.61210 \n",
            "Epoch: 50 |train loss:1.45029 | Test loss:1.64700 \n",
            "Epoch: 51 |train loss:1.44578 | Test loss:1.60794 \n",
            "Epoch: 52 |train loss:1.44008 | Test loss:1.62021 \n",
            "Epoch: 53 |train loss:1.43491 | Test loss:1.64621 \n",
            "Epoch: 54 |train loss:1.42845 | Test loss:1.66323 \n",
            "Epoch: 55 |train loss:1.42047 | Test loss:1.63734 \n",
            "Epoch: 56 |train loss:1.41638 | Test loss:1.63369 \n",
            "Epoch: 57 |train loss:1.41476 | Test loss:1.62517 \n",
            "Epoch: 58 |train loss:1.40659 | Test loss:1.65421 \n",
            "Epoch: 59 |train loss:1.40290 | Test loss:1.63142 \n",
            "Epoch: 60 |train loss:1.39825 | Test loss:1.64701 \n",
            "Epoch: 61 |train loss:1.39198 | Test loss:1.61539 \n",
            "Epoch: 62 |train loss:1.38709 | Test loss:1.61971 \n",
            "Epoch: 63 |train loss:1.38158 | Test loss:1.62261 \n",
            "Epoch: 64 |train loss:1.37904 | Test loss:1.65634 \n",
            "Epoch: 65 |train loss:1.37386 | Test loss:1.62004 \n",
            "Epoch: 66 |train loss:1.36721 | Test loss:1.65738 \n",
            "Epoch: 67 |train loss:1.36598 | Test loss:1.64400 \n",
            "Epoch: 68 |train loss:1.35831 | Test loss:1.61675 \n",
            "Epoch: 69 |train loss:1.35532 | Test loss:1.64577 \n",
            "Epoch: 70 |train loss:1.35084 | Test loss:1.61985 \n",
            "Epoch: 71 |train loss:1.34633 | Test loss:1.63532 \n",
            "Epoch: 72 |train loss:1.34215 | Test loss:1.66224 \n",
            "Epoch: 73 |train loss:1.33626 | Test loss:1.63887 \n",
            "Epoch: 74 |train loss:1.33061 | Test loss:1.62922 \n",
            "Epoch: 75 |train loss:1.32827 | Test loss:1.65282 \n",
            "Epoch: 76 |train loss:1.32324 | Test loss:1.68897 \n",
            "Epoch: 77 |train loss:1.31969 | Test loss:1.64777 \n",
            "Epoch: 78 |train loss:1.31297 | Test loss:1.64322 \n",
            "Epoch: 79 |train loss:1.31109 | Test loss:1.63273 \n",
            "Epoch: 80 |train loss:1.30533 | Test loss:1.67355 \n",
            "Epoch: 81 |train loss:1.30189 | Test loss:1.69053 \n",
            "Epoch: 82 |train loss:1.29958 | Test loss:1.64288 \n",
            "Epoch: 83 |train loss:1.29291 | Test loss:1.69192 \n",
            "Epoch: 84 |train loss:1.28889 | Test loss:1.67631 \n",
            "Epoch: 85 |train loss:1.28367 | Test loss:1.70722 \n",
            "Epoch: 86 |train loss:1.28242 | Test loss:1.64992 \n",
            "Epoch: 87 |train loss:1.27813 | Test loss:1.66970 \n",
            "Epoch: 88 |train loss:1.27364 | Test loss:1.65269 \n",
            "Epoch: 89 |train loss:1.26810 | Test loss:1.66860 \n",
            "Epoch: 90 |train loss:1.26626 | Test loss:1.66033 \n",
            "Epoch: 91 |train loss:1.26027 | Test loss:1.67855 \n",
            "Epoch: 92 |train loss:1.25790 | Test loss:1.65186 \n",
            "Epoch: 93 |train loss:1.25221 | Test loss:1.72651 \n",
            "Epoch: 94 |train loss:1.24928 | Test loss:1.70087 \n",
            "Epoch: 95 |train loss:1.24539 | Test loss:1.67534 \n",
            "Epoch: 96 |train loss:1.23955 | Test loss:1.70777 \n",
            "Epoch: 97 |train loss:1.24010 | Test loss:1.65873 \n",
            "Epoch: 98 |train loss:1.23325 | Test loss:1.70991 \n",
            "Epoch: 99 |train loss:1.23382 | Test loss:1.76128 \n"
          ]
        }
      ]
    },
    {
      "cell_type": "code",
      "source": [
        "import numpy as np\n",
        "\n",
        "#plot loss curves\n",
        "plt.plot(epoch_count, np.array(torch.tensor(train_loss_list).numpy()), label ='Train loss')\n",
        "plt.plot(epoch_count, np.array(torch.tensor(test_loss_list).numpy()), label='Test loss')\n",
        "plt.title(\"training & test loss curves\")\n",
        "plt.ylabel(\"loss\")\n",
        "plt.xlabel('Epochs')\n",
        "plt.legend();"
      ],
      "metadata": {
        "colab": {
          "base_uri": "https://localhost:8080/",
          "height": 295
        },
        "id": "85tTJgjSeztm",
        "outputId": "4df2eb23-b94f-4a00-ea42-67c46eae0d52"
      },
      "execution_count": null,
      "outputs": [
        {
          "output_type": "display_data",
          "data": {
            "text/plain": [
              "<Figure size 432x288 with 1 Axes>"
            ],
            "image/png": "[encoded data removed]"
          },
          "metadata": {
            "needs_background": "light"
          }
        }
      ]
    },
    {
      "cell_type": "code",
      "source": [],
      "metadata": {
        "id": "ZgAURZdclLhL"
      },
      "execution_count": null,
      "outputs": []
    },
    {
      "cell_type": "markdown",
      "source": [
        "# 10 layer model with sigmoid function"
      ],
      "metadata": {
        "id": "e0AHCKWAezxJ"
      }
    },
    {
      "cell_type": "code",
      "source": [
        "from torch import nn\n",
        "#building a multiclass classification model\n",
        "class CifarModel_2(nn.Module):\n",
        "  def __init__(self, input_features, output_features, hidden_units=8):\n",
        "    super().__init__()\n",
        "    self.linear_layer_stack= nn.Sequential(\n",
        "        nn.Linear(in_features= input_features, out_features=hidden_units),\n",
        "        nn.Sigmoid(),\n",
        "        nn.Linear(in_features=hidden_units, out_features=hidden_units),\n",
        "        nn.Sigmoid(),\n",
        "        nn.Linear(in_features=hidden_units, out_features=hidden_units),\n",
        "        nn.Sigmoid(),\n",
        "        nn.Linear(in_features=hidden_units, out_features=hidden_units),\n",
        "        nn.Sigmoid(),\n",
        "        nn.Linear(in_features=hidden_units, out_features=hidden_units),\n",
        "        nn.Sigmoid(),\n",
        "        nn.Linear(in_features=hidden_units, out_features=hidden_units),\n",
        "        nn.Sigmoid(),\n",
        "        nn.Linear(in_features=hidden_units, out_features=hidden_units),\n",
        "        nn.Sigmoid(),\n",
        "        nn.Linear(in_features=hidden_units, out_features=hidden_units),\n",
        "        nn.Sigmoid(), nn.Linear(in_features=hidden_units, out_features=hidden_units),\n",
        "        nn.Sigmoid(),\n",
        "        nn.Linear(in_features=hidden_units, out_features=output_features)\n",
        "    )\n",
        "\n",
        "  def forward(self,x):\n",
        "    x=x.reshape(-1,1024)\n",
        "    return self.linear_layer_stack(x)\n",
        "\n",
        "  #create an instance of model and send it to the target device\n",
        "model_2= CifarModel_2(input_features=1024,\n",
        "                   output_features=10,\n",
        "                   hidden_units=100).to(device)\n",
        "model_2\n"
      ],
      "metadata": {
        "colab": {
          "base_uri": "https://localhost:8080/"
        },
        "id": "TpODJLYhez2W",
        "outputId": "7d3ddcba-9d08-42af-9e48-bdfc75273e2e"
      },
      "execution_count": null,
      "outputs": [
        {
          "output_type": "execute_result",
          "data": {
            "text/plain": [
              "CifarModel_2(\n",
              "  (linear_layer_stack): Sequential(\n",
              "    (0): Linear(in_features=1024, out_features=100, bias=True)\n",
              "    (1): Sigmoid()\n",
              "    (2): Linear(in_features=100, out_features=100, bias=True)\n",
              "    (3): Sigmoid()\n",
              "    (4): Linear(in_features=100, out_features=100, bias=True)\n",
              "    (5): Sigmoid()\n",
              "    (6): Linear(in_features=100, out_features=100, bias=True)\n",
              "    (7): Sigmoid()\n",
              "    (8): Linear(in_features=100, out_features=100, bias=True)\n",
              "    (9): Sigmoid()\n",
              "    (10): Linear(in_features=100, out_features=100, bias=True)\n",
              "    (11): Sigmoid()\n",
              "    (12): Linear(in_features=100, out_features=100, bias=True)\n",
              "    (13): Sigmoid()\n",
              "    (14): Linear(in_features=100, out_features=100, bias=True)\n",
              "    (15): Sigmoid()\n",
              "    (16): Linear(in_features=100, out_features=100, bias=True)\n",
              "    (17): Sigmoid()\n",
              "    (18): Linear(in_features=100, out_features=10, bias=True)\n",
              "  )\n",
              ")"
            ]
          },
          "metadata": {},
          "execution_count": 95
        }
      ]
    },
    {
      "cell_type": "code",
      "source": [
        "#create a loss function and an optimizer for multi-class classification model\n",
        "loss_fn= nn.CrossEntropyLoss()\n",
        "optimizer = torch.optim.SGD(params=model_2.parameters(), lr=0.1)\n"
      ],
      "metadata": {
        "id": "gT582KcklnZ2"
      },
      "execution_count": null,
      "outputs": []
    },
    {
      "cell_type": "code",
      "source": [
        "\n",
        "torch.manual_seed(42)\n",
        "torch.cuda.manual_seed(42)\n",
        "\n",
        "#set number of epochs\n",
        "epochs=50\n",
        "epoch_count=[]\n",
        "train_loss_list=[]\n",
        "test_loss_list=[]\n",
        "\n",
        "#loop through data\n",
        "for epoch in range(epochs):\n",
        "  train_loss = 0\n",
        "\n",
        "  for batch, (X, y) in enumerate(train_dataloader):\n",
        "    X_train, y_train =X.to(device), y.to(device)\n",
        "    #training\n",
        "    model_2.train()\n",
        "\n",
        "    #1. forward pass\n",
        "    y_logits = model_2(X)\n",
        "\n",
        "    #2.Calculate the loss/acc\n",
        "    loss = loss_fn(y_logits, y)\n",
        "    # acc = accuracy_fn(y_true=y, y_pred=y_logits.argmax(dim=1))\n",
        "\n",
        "    train_loss = train_loss + loss\n",
        "    \n",
        "    #3.Optimizer zero grad\n",
        "    optimizer.zero_grad()\n",
        "\n",
        "    #4. Loss backward\n",
        "    loss.backward()\n",
        "\n",
        "    #5. optimizer step(gradient descent)\n",
        "    optimizer.step()\n",
        "\n",
        "  \n",
        "  ##Testing\n",
        "  model_2.eval()\n",
        "  with torch.inference_mode():\n",
        "    test_loss = 0\n",
        "    for X, y in test_dataloader:\n",
        "      X_test, y_test =X.to(device), y.to(device)\n",
        "    #1. forward pass\n",
        "      test_logits = model_2(X)\n",
        "      # test_pred = torch.softmax(test_logits, dim=1).argmax(dim=1)\n",
        "\n",
        "      #2. calculte the loss\n",
        "      test_loss = test_loss + loss_fn(test_logits, y)\n",
        "\n",
        "      \n",
        "      # test_acc= accuracy_fn(y_true=y,\n",
        "      #                      y_pred=test_logits.argmax(dim=1))\n",
        "    \n",
        "  #print out whats hapening\n",
        "  train_loss = train_loss / len(train_dataloader)\n",
        "  test_loss = test_loss / len(test_dataloader)\n",
        "  if epoch%2 ==0 :\n",
        "   epoch_count.append(epoch)\n",
        "   #add train loss to the list\n",
        "   train_loss_list.append(train_loss)\n",
        "   #add test loss to the list\n",
        "   test_loss_list.append(test_loss)\n",
        "\n",
        "  print(f\"Epoch: {epoch} |train loss:{train_loss:.5f} | Test loss:{test_loss:.5f} \")\n",
        "  \n",
        "\n",
        "\n"
      ],
      "metadata": {
        "colab": {
          "base_uri": "https://localhost:8080/"
        },
        "id": "fz38BmRPqMA7",
        "outputId": "08784d3b-bc52-4697-ec85-2ef37ac96dc3"
      },
      "execution_count": null,
      "outputs": [
        {
          "output_type": "stream",
          "name": "stdout",
          "text": [
            "Epoch: 0 |train loss:2.31835 | Test loss:2.31030 \n",
            "Epoch: 1 |train loss:2.30956 | Test loss:2.30860 \n",
            "Epoch: 2 |train loss:2.30669 | Test loss:2.30682 \n",
            "Epoch: 3 |train loss:2.30558 | Test loss:2.30466 \n",
            "Epoch: 4 |train loss:2.30503 | Test loss:2.30468 \n",
            "Epoch: 5 |train loss:2.30447 | Test loss:2.30570 \n",
            "Epoch: 6 |train loss:2.30433 | Test loss:2.30529 \n",
            "Epoch: 7 |train loss:2.30429 | Test loss:2.30338 \n",
            "Epoch: 8 |train loss:2.30390 | Test loss:2.30471 \n",
            "Epoch: 9 |train loss:2.30400 | Test loss:2.30345 \n",
            "Epoch: 10 |train loss:2.30375 | Test loss:2.30327 \n",
            "Epoch: 11 |train loss:2.30379 | Test loss:2.30283 \n",
            "Epoch: 12 |train loss:2.30376 | Test loss:2.30313 \n",
            "Epoch: 13 |train loss:2.30358 | Test loss:2.30390 \n",
            "Epoch: 14 |train loss:2.30354 | Test loss:2.30422 \n",
            "Epoch: 15 |train loss:2.30371 | Test loss:2.30308 \n",
            "Epoch: 16 |train loss:2.30374 | Test loss:2.30343 \n",
            "Epoch: 17 |train loss:2.30367 | Test loss:2.30322 \n",
            "Epoch: 18 |train loss:2.30348 | Test loss:2.30323 \n",
            "Epoch: 19 |train loss:2.30365 | Test loss:2.30290 \n",
            "Epoch: 20 |train loss:2.30360 | Test loss:2.30374 \n",
            "Epoch: 21 |train loss:2.30353 | Test loss:2.30366 \n",
            "Epoch: 22 |train loss:2.30355 | Test loss:2.30356 \n",
            "Epoch: 23 |train loss:2.30364 | Test loss:2.30290 \n",
            "Epoch: 24 |train loss:2.30340 | Test loss:2.30286 \n",
            "Epoch: 25 |train loss:2.30349 | Test loss:2.30370 \n",
            "Epoch: 26 |train loss:2.30351 | Test loss:2.30434 \n",
            "Epoch: 27 |train loss:2.30366 | Test loss:2.30333 \n",
            "Epoch: 28 |train loss:2.30359 | Test loss:2.30325 \n",
            "Epoch: 29 |train loss:2.30357 | Test loss:2.30270 \n",
            "Epoch: 30 |train loss:2.30337 | Test loss:2.30335 \n",
            "Epoch: 31 |train loss:2.30342 | Test loss:2.30336 \n",
            "Epoch: 32 |train loss:2.30340 | Test loss:2.30362 \n",
            "Epoch: 33 |train loss:2.30341 | Test loss:2.30406 \n",
            "Epoch: 34 |train loss:2.30343 | Test loss:2.30360 \n",
            "Epoch: 35 |train loss:2.30355 | Test loss:2.30278 \n",
            "Epoch: 36 |train loss:2.30349 | Test loss:2.30309 \n",
            "Epoch: 37 |train loss:2.30344 | Test loss:2.30332 \n",
            "Epoch: 38 |train loss:2.30348 | Test loss:2.30318 \n",
            "Epoch: 39 |train loss:2.30348 | Test loss:2.30314 \n",
            "Epoch: 40 |train loss:2.30349 | Test loss:2.30317 \n",
            "Epoch: 41 |train loss:2.30339 | Test loss:2.30313 \n",
            "Epoch: 42 |train loss:2.30348 | Test loss:2.30300 \n",
            "Epoch: 43 |train loss:2.30347 | Test loss:2.30293 \n",
            "Epoch: 44 |train loss:2.30337 | Test loss:2.30310 \n",
            "Epoch: 45 |train loss:2.30346 | Test loss:2.30349 \n",
            "Epoch: 46 |train loss:2.30327 | Test loss:2.30364 \n",
            "Epoch: 47 |train loss:2.30349 | Test loss:2.30325 \n",
            "Epoch: 48 |train loss:2.30339 | Test loss:2.30324 \n",
            "Epoch: 49 |train loss:2.30339 | Test loss:2.30324 \n"
          ]
        }
      ]
    },
    {
      "cell_type": "code",
      "source": [
        "import numpy as np\n",
        "\n",
        "#plot loss curves\n",
        "plt.plot(epoch_count, np.array(torch.tensor(train_loss_list).numpy()), label ='Train loss')\n",
        "plt.plot(epoch_count, np.array(torch.tensor(test_loss_list).numpy()), label='Test loss')\n",
        "plt.title(\"training & test loss curves\")\n",
        "plt.ylabel(\"loss\")\n",
        "plt.xlabel('Epochs')\n",
        "plt.legend();"
      ],
      "metadata": {
        "colab": {
          "base_uri": "https://localhost:8080/",
          "height": 295
        },
        "id": "JsNEx11Hs-VB",
        "outputId": "2e7a1e65-fb7b-4ab0-f1b5-17506a6af62c"
      },
      "execution_count": null,
      "outputs": [
        {
          "output_type": "display_data",
          "data": {
            "text/plain": [
              "<Figure size 432x288 with 1 Axes>"
            ],
            "image/png": "[encoded data removed]"
          },
          "metadata": {
            "needs_background": "light"
          }
        }
      ]
    },
    {
      "cell_type": "markdown",
      "source": [
        "# Relu activation Function"
      ],
      "metadata": {
        "id": "BUJsBWJks_L8"
      }
    },
    {
      "cell_type": "code",
      "source": [
        "from torch import nn\n",
        "#building a multiclass classification model\n",
        "class CifarModel_3(nn.Module):\n",
        "  def __init__(self, input_features, output_features, hidden_units=8):\n",
        "    super().__init__()\n",
        "    self.linear_layer_stack= nn.Sequential(\n",
        "        nn.Linear(in_features= input_features, out_features=hidden_units),\n",
        "        nn.ReLU(),\n",
        "        nn.Linear(in_features=hidden_units, out_features=hidden_units),\n",
        "        nn.ReLU(),\n",
        "        nn.Linear(in_features=hidden_units, out_features=hidden_units),\n",
        "        nn.ReLU(),\n",
        "        nn.Linear(in_features=hidden_units, out_features=hidden_units),\n",
        "        nn.ReLU(),\n",
        "        nn.Linear(in_features=hidden_units, out_features=output_features)\n",
        "    )\n",
        "\n",
        "  def forward(self,x):\n",
        "    x=x.reshape(-1,1024)\n",
        "    return self.linear_layer_stack(x)\n",
        "\n",
        "  #create an instance of model and send it to the target device\n",
        "model_3= CifarModel_3(input_features=1024,\n",
        "                   output_features=10,\n",
        "                   hidden_units=100).to(device)\n",
        "model_3\n"
      ],
      "metadata": {
        "colab": {
          "base_uri": "https://localhost:8080/"
        },
        "id": "RRh_xNaytb8T",
        "outputId": "08886f1b-bc72-42ff-f2bf-c7b6436afe41"
      },
      "execution_count": null,
      "outputs": [
        {
          "output_type": "execute_result",
          "data": {
            "text/plain": [
              "CifarModel_3(\n",
              "  (linear_layer_stack): Sequential(\n",
              "    (0): Linear(in_features=1024, out_features=100, bias=True)\n",
              "    (1): ReLU()\n",
              "    (2): Linear(in_features=100, out_features=100, bias=True)\n",
              "    (3): ReLU()\n",
              "    (4): Linear(in_features=100, out_features=100, bias=True)\n",
              "    (5): ReLU()\n",
              "    (6): Linear(in_features=100, out_features=100, bias=True)\n",
              "    (7): ReLU()\n",
              "    (8): Linear(in_features=100, out_features=10, bias=True)\n",
              "  )\n",
              ")"
            ]
          },
          "metadata": {},
          "execution_count": 146
        }
      ]
    },
    {
      "cell_type": "code",
      "source": [
        "#create a loss function and an optimizer for multi-class classification model\n",
        "loss_fn= nn.CrossEntropyLoss()\n",
        "optimizer = torch.optim.SGD(params=model_3.parameters(), lr=0.1)\n"
      ],
      "metadata": {
        "id": "rQ53nNUUt-tD"
      },
      "execution_count": null,
      "outputs": []
    },
    {
      "cell_type": "code",
      "source": [
        "\n",
        "torch.manual_seed(42)\n",
        "torch.cuda.manual_seed(42)\n",
        "\n",
        "#set number of epochs\n",
        "epochs=20\n",
        "epoch_count=[]\n",
        "train_loss_list=[]\n",
        "test_loss_list=[]\n",
        "\n",
        "#loop through data\n",
        "for epoch in range(epochs):\n",
        "  train_loss = 0\n",
        "\n",
        "  for batch, (X, y) in enumerate(train_dataloader):\n",
        "    X_train, y_train =X.to(device), y.to(device)\n",
        "    #training\n",
        "    model_3.train()\n",
        "\n",
        "    #1. forward pass\n",
        "    y_logits = model_3(X)\n",
        "\n",
        "    #2.Calculate the loss/acc\n",
        "    loss = loss_fn(y_logits, y)\n",
        "    # acc = accuracy_fn(y_true=y, y_pred=y_logits.argmax(dim=1))\n",
        "\n",
        "    train_loss = train_loss + loss\n",
        "    \n",
        "    #3.Optimizer zero grad\n",
        "    optimizer.zero_grad()\n",
        "\n",
        "    #4. Loss backward\n",
        "    loss.backward()\n",
        "\n",
        "    #5. optimizer step(gradient descent)\n",
        "    optimizer.step()\n",
        "\n",
        "  \n",
        "  ##Testing\n",
        "  model_3.eval()\n",
        "  with torch.inference_mode():\n",
        "    test_loss = 0\n",
        "    for X, y in test_dataloader:\n",
        "      X_test, y_test =X.to(device), y.to(device)\n",
        "    #1. forward pass\n",
        "      test_logits = model_3(X)\n",
        "      # test_pred = torch.softmax(test_logits, dim=1).argmax(dim=1)\n",
        "\n",
        "      #2. calculte the loss\n",
        "      test_loss = test_loss + loss_fn(test_logits, y)\n",
        "\n",
        "      \n",
        "      # test_acc= accuracy_fn(y_true=y,\n",
        "      #                      y_pred=test_logits.argmax(dim=1))\n",
        "    \n",
        "  #print out whats hapening\n",
        "  train_loss = train_loss / len(train_dataloader)\n",
        "  test_loss = test_loss / len(test_dataloader)\n",
        "  if epoch%2 ==0 :\n",
        "   epoch_count.append(epoch)\n",
        "   #add train loss to the list\n",
        "   train_loss_list.append(train_loss)\n",
        "   #add test loss to the list\n",
        "   test_loss_list.append(test_loss)\n",
        "\n",
        "  print(f\"Epoch: {epoch} |train loss:{train_loss:.5f} | Test loss:{test_loss:.5f} \")\n",
        "  \n",
        "\n",
        "\n"
      ],
      "metadata": {
        "colab": {
          "base_uri": "https://localhost:8080/"
        },
        "id": "ozfS1ebouGh2",
        "outputId": "823471be-9425-44bf-e9b0-06581ba800db"
      },
      "execution_count": null,
      "outputs": [
        {
          "output_type": "stream",
          "name": "stdout",
          "text": [
            "Epoch: 0 |train loss:2.13993 | Test loss:2.04977 \n",
            "Epoch: 1 |train loss:1.97457 | Test loss:1.91700 \n",
            "Epoch: 2 |train loss:1.90655 | Test loss:1.86601 \n",
            "Epoch: 3 |train loss:1.85365 | Test loss:1.82005 \n",
            "Epoch: 4 |train loss:1.80976 | Test loss:1.82066 \n",
            "Epoch: 5 |train loss:1.77694 | Test loss:1.79921 \n",
            "Epoch: 6 |train loss:1.74622 | Test loss:1.80788 \n",
            "Epoch: 7 |train loss:1.71959 | Test loss:1.79550 \n",
            "Epoch: 8 |train loss:1.69431 | Test loss:1.74476 \n",
            "Epoch: 9 |train loss:1.67192 | Test loss:1.74760 \n",
            "Epoch: 10 |train loss:1.65063 | Test loss:1.70059 \n",
            "Epoch: 11 |train loss:1.63340 | Test loss:1.73965 \n",
            "Epoch: 12 |train loss:1.61457 | Test loss:1.68499 \n",
            "Epoch: 13 |train loss:1.59874 | Test loss:1.66824 \n",
            "Epoch: 14 |train loss:1.58235 | Test loss:1.65060 \n",
            "Epoch: 15 |train loss:1.57030 | Test loss:1.69872 \n",
            "Epoch: 16 |train loss:1.55468 | Test loss:1.65427 \n",
            "Epoch: 17 |train loss:1.54031 | Test loss:1.68207 \n",
            "Epoch: 18 |train loss:1.53118 | Test loss:1.67479 \n",
            "Epoch: 19 |train loss:1.51535 | Test loss:1.67082 \n"
          ]
        }
      ]
    },
    {
      "cell_type": "code",
      "source": [
        "import numpy as np\n",
        "\n",
        "#plot loss curves\n",
        "plt.plot(epoch_count, np.array(torch.tensor(train_loss_list).numpy()), label ='Train loss')\n",
        "plt.plot(epoch_count, np.array(torch.tensor(test_loss_list).numpy()), label='Test loss')\n",
        "plt.title(\"training & test loss curves\")\n",
        "plt.ylabel(\"loss\")\n",
        "plt.xlabel('Epochs')\n",
        "plt.legend();"
      ],
      "metadata": {
        "colab": {
          "base_uri": "https://localhost:8080/",
          "height": 295
        },
        "id": "v7rMa_RFzKEY",
        "outputId": "f28f34b2-fdbb-4394-8db7-d593cd0a3d8f"
      },
      "execution_count": null,
      "outputs": [
        {
          "output_type": "display_data",
          "data": {
            "text/plain": [
              "<Figure size 432x288 with 1 Axes>"
            ],
            "image/png": "[encoded data removed]"
          },
          "metadata": {
            "needs_background": "light"
          }
        }
      ]
    },
    {
      "cell_type": "code",
      "source": [],
      "metadata": {
        "id": "0IM_TMZYz-rA"
      },
      "execution_count": null,
      "outputs": []
    }
  ]
}